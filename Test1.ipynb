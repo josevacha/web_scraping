{
 "cells": [
  {
   "cell_type": "code",
   "execution_count": 198,
   "metadata": {},
   "outputs": [],
   "source": [
    "\n",
    "import urllib.request\n",
    "import urllib.response\n",
    "from bs4 import BeautifulSoup\n",
    "import json\n",
    "data={}\n",
    "#from bs4 import BeautifulSoup\n",
    "\n",
    "# Create a variable with the url\n",
    "#url = 'https://www.lebatex.com/products/amore-allison-eden-customizable-fabric'\n",
    "url = 'https://www.lebatex.com/products/complex-cubes-allison-eden-m-o-d-sample'\n",
    "\n",
    "# Use urllib to get the contents\n",
    "page = urllib.request.urlopen(url).read()\n",
    "\n",
    "\n",
    "# create a soup object\n",
    "soup = BeautifulSoup(page, 'html.parser')\n",
    "#soup = BeautifulSoup(page)\n",
    "\n",
    "# Get the text of the contents\n",
    "texts = soup.findAll(text=True)"
   ]
  },
  {
   "cell_type": "code",
   "execution_count": 184,
   "metadata": {},
   "outputs": [
    {
     "name": "stdout",
     "output_type": "stream",
     "text": [
      "Complex Cubes \n"
     ]
    },
    {
     "data": {
      "text/plain": [
       "str"
      ]
     },
     "execution_count": 184,
     "metadata": {},
     "output_type": "execute_result"
    }
   ],
   "source": [
    "product_name=(soup.h2.get_text().split('-')[0])\n",
    "print(product_name)\n",
    "type(product_name)"
   ]
  },
  {
   "cell_type": "code",
   "execution_count": 185,
   "metadata": {},
   "outputs": [
    {
     "name": "stdout",
     "output_type": "stream",
     "text": [
      "800510AELE\n8005-10-AELE\n"
     ]
    }
   ],
   "source": [
    "sku=soup.find(class_=\"skus\").get_text().replace(\"-\",\"\").strip()\n",
    "sample_id=soup.find(class_=\"skus\").get_text().strip()\n",
    "# unicode(tag.string)\n",
    "print(sku)\n",
    "print(sample_id)"
   ]
  },
  {
   "cell_type": "code",
   "execution_count": 186,
   "metadata": {},
   "outputs": [
    {
     "name": "stdout",
     "output_type": "stream",
     "text": [
      "Part of the Allison Eden Pop Art M.O.D. (Manufactured on Demand) collection. Samples of this pattern are printed on the base cloth indicated below. However, this pattern is available to be printed on any in-stock drapery, bedding, or upholstery base cloth.\n"
     ]
    },
    {
     "data": {
      "text/plain": [
       "str"
      ]
     },
     "execution_count": 186,
     "metadata": {},
     "output_type": "execute_result"
    }
   ],
   "source": [
    "desc=soup.find(\"div\",class_=\"short-description\")\n",
    "description=desc.p.get_text()\n",
    "print(description)\n",
    "type(description)"
   ]
  },
  {
   "cell_type": "code",
   "execution_count": 187,
   "metadata": {
    "collapsed": false
   },
   "outputs": [
    {
     "name": "stdout",
     "output_type": "stream",
     "text": [
      "For spec information, please reference the base cloth.\n"
     ]
    },
    {
     "data": {
      "text/plain": [
       "str"
      ]
     },
     "execution_count": 187,
     "metadata": {},
     "output_type": "execute_result"
    }
   ],
   "source": [
    "construction= desc.p.next_sibling.get_text()\n",
    "print(construction)\n",
    "type(construction)"
   ]
  },
  {
   "cell_type": "code",
   "execution_count": 188,
   "metadata": {},
   "outputs": [
    {
     "name": "stdout",
     "output_type": "stream",
     "text": [
      "<p>Base Cloth: <strong>Leslie / 8005-10-AELE</strong></p>\n"
     ]
    }
   ],
   "source": [
    "base=desc.p.next_sibling.next_sibling\n",
    "base_cloth=base.strong.get_text().split(\"/\")[0]\n",
    "print(base)\n",
    "#type(base_cloth)"
   ]
  },
  {
   "cell_type": "code",
   "execution_count": 189,
   "metadata": {},
   "outputs": [
    {
     "name": "stdout",
     "output_type": "stream",
     "text": [
      " 27\"H x 27\"V \n"
     ]
    },
    {
     "data": {
      "text/plain": [
       "str"
      ]
     },
     "execution_count": 189,
     "metadata": {},
     "output_type": "execute_result"
    }
   ],
   "source": [
    "repeat=desc.p.next_sibling.next_sibling.next_sibling.get_text().split(\":\")[1]\n",
    "print(pattern_repeat)\n",
    "type(base_cloth)"
   ]
  },
  {
   "cell_type": "code",
   "execution_count": 190,
   "metadata": {
    "collapsed": false
   },
   "outputs": [],
   "source": [
    "img_tag=soup.find(\"div\",class_=\"product-photo-container\")"
   ]
  },
  {
   "cell_type": "code",
   "execution_count": 191,
   "metadata": {},
   "outputs": [
    {
     "name": "stdout",
     "output_type": "stream",
     "text": [
      "http://cdn.shopify.com/s/files/1/1385/2483/products/Complex_Cubes_Customizable_MOD_Fabric_b3c24ae7-dc9e-4337-8e43-50c913be79d9_1024x1024.jpg\n"
     ]
    },
    {
     "data": {
      "text/plain": [
       "str"
      ]
     },
     "execution_count": 191,
     "metadata": {},
     "output_type": "execute_result"
    }
   ],
   "source": [
    "img_path=\"http:\"+ img_tag.a.get('href').split(\"?\")[0]\n",
    "print(img_path)\n",
    "type(img_path)"
   ]
  },
  {
   "cell_type": "code",
   "execution_count": 200,
   "metadata": {},
   "outputs": [
    {
     "name": "stdout",
     "output_type": "stream",
     "text": [
      "{\"product_name\": \"Complex Cubes \", \"sku\": \"800510AELE\", \"sample_id\": \"8005-10-AELE\", \"description\": \"Part of the Allison Eden Pop Art M.O.D. (Manufactured on Demand) collection. Samples of this pattern are printed on the base cloth indicated below. However, this pattern is available to be printed on any in-stock drapery, bedding, or upholstery base cloth.\", \"construction\": \"For spec information, please reference the base cloth.\", \"base_cloth\": \"Leslie \", \"repeat\": \" 27\\\"H x 27\\\"V \", \"img_path\": \"http://cdn.shopify.com/s/files/1/1385/2483/products/Complex_Cubes_Customizable_MOD_Fabric_b3c24ae7-dc9e-4337-8e43-50c913be79d9_1024x1024.jpg\"}\n"
     ]
    }
   ],
   "source": [
    "\n",
    "\n",
    "data.update({\"product_name\":product_name,\"sku\":sku,\"sample_id\":sample_id,\"description\":description,\"construction\":construction,\"base_cloth\":base_cloth,\n",
    "             \"repeat\":repeat,\"img_path\":img_path\n",
    "             })\n",
    "\n",
    "# d[\"product_name\"] = product_name\n",
    "# d[\"sku\"] = sku\n",
    "# d[\"sample_id\"] = sample_id\n",
    "# d[\"description\"] = description\n",
    "# d[\"construction\"] = construction\n",
    "# d[\"base_cloth\"] = base_cloth\n",
    "# d[\"pattern_repeat\"] = repeat\n",
    "# d[\"img_path\"] = img_path\n",
    "print (json.dumps(data, ensure_ascii=False))"
   ]
  },
  {
   "cell_type": "code",
   "execution_count": null,
   "metadata": {},
   "outputs": [],
   "source": []
  }
 ],
 "metadata": {
  "kernelspec": {
   "display_name": "Python 2",
   "language": "python",
   "name": "python2"
  },
  "language_info": {
   "codemirror_mode": {
    "name": "ipython",
    "version": 2
   },
   "file_extension": ".py",
   "mimetype": "text/x-python",
   "name": "python",
   "nbconvert_exporter": "python",
   "pygments_lexer": "ipython2",
   "version": "2.7.6"
  }
 },
 "nbformat": 4,
 "nbformat_minor": 0
}
