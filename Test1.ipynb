{
 "cells": [
  {
   "cell_type": "code",
   "execution_count": 2,
   "metadata": {},
   "outputs": [],
   "source": [
    "\n",
    "import urllib.request\n",
    "import urllib.response\n",
    "from bs4 import BeautifulSoup\n",
    "import json\n",
    "data={}\n",
    "\n",
    "# Create a variable with the url\n",
    "#url = 'https://www.lebatex.com/products/amore-allison-eden-customizable-fabric'\n",
    "url = 'https://www.lebatex.com/products/complex-cubes-allison-eden-m-o-d-sample'\n",
    "\n",
    "# Use urllib to get the contents\n",
    "page = urllib.request.urlopen(url).read()\n",
    "\n",
    "# create a soup object\n",
    "soup = BeautifulSoup(page, 'html.parser')"
   ]
  },
  {
   "cell_type": "code",
   "execution_count": 3,
   "metadata": {},
   "outputs": [
    {
     "name": "stdout",
     "output_type": "stream",
     "text": [
      "Complex Cubes \n"
     ]
    }
   ],
   "source": [
    "product_name=(soup.h2.get_text().split('-')[0])\n",
    "print(product_name)"
   ]
  },
  {
   "cell_type": "code",
   "execution_count": 4,
   "metadata": {},
   "outputs": [
    {
     "name": "stdout",
     "output_type": "stream",
     "text": [
      "800510AELE\n8005-10-AELE\n"
     ]
    }
   ],
   "source": [
    "sku=soup.find(class_=\"skus\").get_text().replace(\"-\",\"\").strip()\n",
    "sample_id=soup.find(class_=\"skus\").get_text().strip()\n",
    "print(sku)\n",
    "print(sample_id)"
   ]
  },
  {
   "cell_type": "code",
   "execution_count": 5,
   "metadata": {},
   "outputs": [
    {
     "name": "stdout",
     "output_type": "stream",
     "text": [
      "Part of the Allison Eden Pop Art M.O.D. (Manufactured on Demand) collection. Samples of this pattern are printed on the base cloth indicated below. However, this pattern is available to be printed on any in-stock drapery, bedding, or upholstery base cloth.\n"
     ]
    }
   ],
   "source": [
    "desc=soup.find(\"div\",class_=\"short-description\")\n",
    "description=desc.p.get_text()\n",
    "print(description)"
   ]
  },
  {
   "cell_type": "code",
   "execution_count": 6,
   "metadata": {
    "collapsed": false
   },
   "outputs": [
    {
     "name": "stdout",
     "output_type": "stream",
     "text": [
      "For spec information, please reference the base cloth.\n"
     ]
    }
   ],
   "source": [
    "construction= desc.p.next_sibling.get_text()\n",
    "print(construction)"
   ]
  },
  {
   "cell_type": "code",
   "execution_count": 9,
   "metadata": {},
   "outputs": [
    {
     "name": "stdout",
     "output_type": "stream",
     "text": [
      "Leslie \n"
     ]
    }
   ],
   "source": [
    "base=desc.p.next_sibling.next_sibling\n",
    "base_cloth=base.strong.get_text().split(\"/\")[0]\n",
    "print(base_cloth)"
   ]
  },
  {
   "cell_type": "code",
   "execution_count": 10,
   "metadata": {},
   "outputs": [
    {
     "name": "stdout",
     "output_type": "stream",
     "text": [
      " 27\"H x 27\"V \n"
     ]
    }
   ],
   "source": [
    "repeat=desc.p.next_sibling.next_sibling.next_sibling.get_text().split(\":\")[1]\n",
    "print(repeat)"
   ]
  },
  {
   "cell_type": "code",
   "execution_count": 11,
   "metadata": {
    "collapsed": false
   },
   "outputs": [
    {
     "name": "stdout",
     "output_type": "stream",
     "text": [
      "http://cdn.shopify.com/s/files/1/1385/2483/products/Complex_Cubes_Customizable_MOD_Fabric_b3c24ae7-dc9e-4337-8e43-50c913be79d9_1024x1024.jpg\n"
     ]
    }
   ],
   "source": [
    "img_tag=soup.find(\"div\",class_=\"product-photo-container\")\n",
    "img_path=\"http:\"+ img_tag.a.get('href').split(\"?\")[0]\n",
    "print(img_path)"
   ]
  },
  {
   "cell_type": "code",
   "execution_count": 13,
   "metadata": {},
   "outputs": [
    {
     "name": "stdout",
     "output_type": "stream",
     "text": [
      "{\"product_name\": \"Complex Cubes \", \"sku\": \"800510AELE\", \"sample_id\": \"8005-10-AELE\", \"description\": \"Part of the Allison Eden Pop Art M.O.D. (Manufactured on Demand) collection. Samples of this pattern are printed on the base cloth indicated below. However, this pattern is available to be printed on any in-stock drapery, bedding, or upholstery base cloth.\", \"construction\": \"For spec information, please reference the base cloth.\", \"base_cloth\": \"Leslie \", \"repeat\": \" 27\\\"H x 27\\\"V \", \"img_path\": \"http://cdn.shopify.com/s/files/1/1385/2483/products/Complex_Cubes_Customizable_MOD_Fabric_b3c24ae7-dc9e-4337-8e43-50c913be79d9_1024x1024.jpg\"}\n"
     ]
    }
   ],
   "source": [
    "data.update({\"product_name\":product_name,\"sku\":sku,\"sample_id\":sample_id,\"description\":description,\"construction\":construction,\"base_cloth\":base_cloth,\n",
    "             \"repeat\":repeat,\"img_path\":img_path\n",
    "             })\n",
    "print (json.dumps(data, ensure_ascii=False))"
   ]
  },
  {
   "cell_type": "code",
   "execution_count": null,
   "metadata": {},
   "outputs": [],
   "source": []
  }
 ],
 "metadata": {
  "kernelspec": {
   "display_name": "Python 2",
   "language": "python",
   "name": "python2"
  },
  "language_info": {
   "codemirror_mode": {
    "name": "ipython",
    "version": 2
   },
   "file_extension": ".py",
   "mimetype": "text/x-python",
   "name": "python",
   "nbconvert_exporter": "python",
   "pygments_lexer": "ipython2",
   "version": "2.7.6"
  }
 },
 "nbformat": 4,
 "nbformat_minor": 0
}
